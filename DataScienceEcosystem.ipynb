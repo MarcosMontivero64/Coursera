{
 "cells": [
  {
   "cell_type": "markdown",
   "metadata": {},
   "source": [
    "<center>\n",
    "    <img src=\"https://cf-courses-data.s3.us.cloud-object-storage.appdomain.cloud/IBMDeveloperSkillsNetwork-DS0105EN-SkillsNetwork/labs/Module2/images/SN_web_lightmode.png\" width=\"300\" alt=\"cognitiveclass.ai logo\">\n",
    "</center>\n"
   ]
  },
  {
   "cell_type": "markdown",
   "metadata": {},
   "source": [
    "#### Add your code below following the instructions given in the course\n"
   ]
  },
  {
   "cell_type": "markdown",
   "metadata": {},
   "source": [
    "<H1> Data Science Tools and Ecosystem </H1>"
   ]
  },
  {
   "cell_type": "markdown",
   "metadata": {},
   "source": [
    "In this presentation we will are see a summary of the contents about data science, tools and programming languages\n",
    "\n",
    "**Objectives:**\n",
    "- Learn about languages\n",
    "- Practice at tools of IBM\n",
    "- Learn about Tools\n"
   ]
  },
  {
   "cell_type": "markdown",
   "metadata": {},
   "source": [
    "Some of the commonly used programming languages by Data Scientists include:\n",
    "- Python\n",
    "- R\n",
    "- SQL\n",
    "- Scala\n",
    "- Java\n",
    "- C++\n",
    "- Julia\n",
    "- JavaScript\n",
    "- PHP\n",
    "- Go\n",
    "- Ruby\n",
    "- Visual Basic\n"
   ]
  },
  {
   "cell_type": "markdown",
   "metadata": {},
   "source": [
    "Some of the commonly used libraries used by Data Scientists include:\n",
    "- Pandas\n",
    "- Numpy\n",
    "- Scipy\n",
    "- Scikit-learn\n",
    "- TensorFlow\n",
    "- Keras\n",
    "- matplotlib\n",
    "- Pytorch"
   ]
  },
  {
   "cell_type": "markdown",
   "metadata": {},
   "source": [
    "Some of the commonly used tools by Data Scientists include:\n",
    "\n",
    "- MySQ\n",
    "- PostgreSQL\n",
    "- MongoDB\n",
    "- Apache CouchDB\n",
    "- Apache Cassandra\n",
    "- Hadoop File System\n",
    "- Ceph\n",
    "- Elasticsearch\n",
    "- Apache AirFlow\n",
    "- Apache Kafka\n",
    "- Apache Nifi\n",
    "- Apache SparkSQL\n",
    "- NodeRED \n",
    "- Kibana\n",
    "- Apache Superset \n",
    "- Apache PredictionIO \n",
    "- Seldon\n",
    "- ModelDB\n",
    "- Jupyter\n",
    "- Apache Zeppelin\n"
   ]
  },
  {
   "cell_type": "markdown",
   "metadata": {
    "tags": []
   },
   "source": [
    "<H3> Below are a few examples of evaluating arithmetic expressions in Python </H3>\n",
    "\n",
    "A + B = C"
   ]
  },
  {
   "cell_type": "code",
   "execution_count": 10,
   "metadata": {},
   "outputs": [
    {
     "data": {
      "text/plain": [
       "18"
      ]
     },
     "execution_count": 10,
     "metadata": {},
     "output_type": "execute_result"
    }
   ],
   "source": [
    "#This is a simple arithmetic expression to mutiply then add integers\n",
    "\n",
    "(2 + 4)*3"
   ]
  },
  {
   "cell_type": "code",
   "execution_count": 12,
   "metadata": {},
   "outputs": [
    {
     "name": "stdout",
     "output_type": "stream",
     "text": [
      "2.5\n"
     ]
    }
   ],
   "source": [
    "# This will convert 200 minutes to hours by diving by 60\n",
    "\n",
    "minutes = 150\n",
    "hours = (minutes/60)\n",
    "print (hours)"
   ]
  },
  {
   "cell_type": "markdown",
   "metadata": {},
   "source": [
    "Objectives:\n",
    "\n",
    "Know about the popular tools in Data Science and how to use them. \n"
   ]
  },
  {
   "cell_type": "markdown",
   "metadata": {},
   "source": [
    "<H2> Author name </H2>\n",
    "\n",
    "Marcos Montivero"
   ]
  }
 ],
 "metadata": {
  "kernelspec": {
   "display_name": "Python",
   "language": "python",
   "name": "conda-env-python-py"
  },
  "language_info": {
   "codemirror_mode": {
    "name": "ipython",
    "version": 3
   },
   "file_extension": ".py",
   "mimetype": "text/x-python",
   "name": "python",
   "nbconvert_exporter": "python",
   "pygments_lexer": "ipython3",
   "version": "3.7.12"
  }
 },
 "nbformat": 4,
 "nbformat_minor": 4
}
